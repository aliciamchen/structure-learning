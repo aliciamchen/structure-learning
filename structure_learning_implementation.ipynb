{
 "cells": [
  {
   "cell_type": "markdown",
   "id": "afaf2969-44c5-4116-9e7e-7c111b33a8af",
   "metadata": {},
   "source": [
    "# Social-structure learning\n",
    "\n",
    "Implementation of structure-learning model in Gershman, Pouncy, & Gweon (2017)"
   ]
  },
  {
   "cell_type": "code",
   "execution_count": 1,
   "id": "596b6bf1-39cb-4118-a61e-83fe50dc2c62",
   "metadata": {},
   "outputs": [],
   "source": [
    "import numpy as np\n",
    "import pandas as pd\n",
    "import matplotlib.pyplot as plt\n",
    "import seaborn as sns\n",
    "import math\n",
    "import random\n",
    "\n",
    "from more_itertools import set_partitions\n",
    "from scipy.special import gamma"
   ]
  },
  {
   "cell_type": "code",
   "execution_count": 2,
   "id": "e3a9befa-3ab3-48aa-aa9e-df7dd4a19ff5",
   "metadata": {},
   "outputs": [],
   "source": [
    "params = {\n",
    "    # 'alpha': np.linspace(10**(-5), 10, 6),  # following Sam's implementation\n",
    "    # 'dalpha': np.linspace(10**(-5), 10, 6, retstep=True)[1],  # size of step between alphas\n",
    "    'alpha': np.linspace(10**(-5), 3, 6),  # try a new value of alpha\n",
    "    'gamma': 1,\n",
    "    'M': 3,  # number of individuals,\n",
    "    'N': 5,  # number of choice problems\n",
    "    'X': 2,  # number of choices for each problem (can turn this into a vector later)\n",
    "    'beta': 11.05  # temperature param in Luce choice rule, arbitrarily choosing 3 but this should be fit to data\n",
    "}"
   ]
  },
  {
   "cell_type": "markdown",
   "id": "3650fb36-c4f4-482d-bf75-06d40b24d4d8",
   "metadata": {
    "tags": []
   },
   "source": [
    "## Prior: Chinese restaurant process\n",
    "\n",
    "Probability of a certain grouping $\\mathbf{z} = [z_1, \\dots, z_m]$ (assigning each person, 1 through $m$, to a group)\n",
    "\n",
    "$$P(\\mathbf{z}|\\alpha) = \\frac{\\alpha^K \\Gamma(\\alpha) \\prod_k \\Gamma(T_k)}{\\Gamma(M+\\alpha)}$$\n",
    "\n",
    "where\n",
    "- $K$ is the total number of groups\n",
    "- $T_k$ is the number of individuals assigned to group $k$\n",
    "\n",
    "Sam et al. marginalize over alphas: \n",
    "$$P(\\mathbf{z}) = \\int_\\alpha P(\\mathbf{z}|\\alpha) P(\\alpha) d\\alpha$$\n",
    "\n",
    "---\n",
    "\n",
    "### Notation\n",
    "- `Z`: list of all possible groupings\n",
    "- `z`: a single grouping\n",
    "- `PZ`: list of posterior probabilites for each grouping"
   ]
  },
  {
   "cell_type": "code",
   "execution_count": 3,
   "id": "f2e038d0-5732-4c9c-8853-10de2138e00b",
   "metadata": {},
   "outputs": [],
   "source": [
    "def find_partitions(params): \n",
    "    \"\"\"Return np array of all possible partitions\"\"\"\n",
    "    Z = [] \n",
    "    people = [i for i in range(params['M'])]\n",
    "    \n",
    "    for part in set_partitions(people):\n",
    "        Z.append(part)\n",
    "    \n",
    "    return Z"
   ]
  },
  {
   "cell_type": "code",
   "execution_count": 4,
   "id": "e7c3f973-653e-49b6-9acb-52cc441f9826",
   "metadata": {},
   "outputs": [],
   "source": [
    "Z = find_partitions(params)"
   ]
  },
  {
   "cell_type": "code",
   "execution_count": 5,
   "id": "c1f8aae6-2c19-4f06-927b-0d3e538b2b42",
   "metadata": {},
   "outputs": [],
   "source": [
    "def CRP(z, params): \n",
    "    \"\"\"Calculate P(z): probability for a specific grouping\"\"\"\n",
    "    K = len(z)  # total number of groups\n",
    "    T = np.array([len(group) for group in z])  # size of each group \n",
    "    alpha = params['alpha']\n",
    "\n",
    "    M = params['M']  # total number of people\n",
    "    \n",
    "    # Calculate P(z|alpha) for all alphas\n",
    "    PzGalphas = (alpha**K * gamma(alpha) * np.prod(gamma(T))) / gamma(M + alpha) \n",
    "    \n",
    "    # probability of alphas is uniform over the alphas \n",
    "    Palphas = np.ones((len(alpha),)) * (1 / len(alpha)) \n",
    "    \n",
    "    # marginalize over alphas\n",
    "    Pz = np.sum(PzGalphas * Palphas)\n",
    "    \n",
    "    return Pz"
   ]
  },
  {
   "cell_type": "code",
   "execution_count": 6,
   "id": "2ad0d28b-73be-435c-8de3-71b2fc69db1a",
   "metadata": {},
   "outputs": [
    {
     "name": "stdout",
     "output_type": "stream",
     "text": [
      "[[0], [1], [2]]\n",
      "[[0, 1, 2]]\n"
     ]
    },
    {
     "data": {
      "text/plain": [
       "0.36441651800803415"
      ]
     },
     "execution_count": 6,
     "metadata": {},
     "output_type": "execute_result"
    }
   ],
   "source": [
    "print(Z[4])\n",
    "CRP(Z[4], params)\n",
    "\n",
    "print(Z[0])\n",
    "CRP(Z[0], params)"
   ]
  },
  {
   "cell_type": "markdown",
   "id": "6985b4b6-b424-4422-b8fb-81c0127eab9d",
   "metadata": {},
   "source": [
    "Find posteriors for each grouping"
   ]
  },
  {
   "cell_type": "code",
   "execution_count": 7,
   "id": "21b25d33-6510-43dc-a932-80c25b14e01f",
   "metadata": {},
   "outputs": [],
   "source": [
    "PZ = []\n",
    "for z in Z:\n",
    "    PZ.append(CRP(z, params))"
   ]
  },
  {
   "cell_type": "code",
   "execution_count": 8,
   "id": "72b9ad8f-ad34-48cc-acf6-4c9747d9c315",
   "metadata": {},
   "outputs": [
    {
     "data": {
      "text/plain": [
       "0.9999999999999998"
      ]
     },
     "execution_count": 8,
     "metadata": {},
     "output_type": "execute_result"
    }
   ],
   "source": [
    "# Sanity check\n",
    "sum(PZ)"
   ]
  },
  {
   "cell_type": "code",
   "execution_count": 9,
   "id": "316dc29d-f595-4b35-b1dd-955f8a3c9092",
   "metadata": {},
   "outputs": [],
   "source": [
    "df_PZ = pd.DataFrame(data={\n",
    "    'grouping': Z, \n",
    "    'Pz': PZ\n",
    "})\n",
    "\n",
    "df_PZ['nGroups'] = df_PZ['grouping'].apply(lambda x: len(x))"
   ]
  },
  {
   "cell_type": "code",
   "execution_count": 10,
   "id": "f2deed70-918d-476d-96f1-452a930c49ea",
   "metadata": {},
   "outputs": [
    {
     "data": {
      "text/html": [
       "<div>\n",
       "<style scoped>\n",
       "    .dataframe tbody tr th:only-of-type {\n",
       "        vertical-align: middle;\n",
       "    }\n",
       "\n",
       "    .dataframe tbody tr th {\n",
       "        vertical-align: top;\n",
       "    }\n",
       "\n",
       "    .dataframe thead th {\n",
       "        text-align: right;\n",
       "    }\n",
       "</style>\n",
       "<table border=\"1\" class=\"dataframe\">\n",
       "  <thead>\n",
       "    <tr style=\"text-align: right;\">\n",
       "      <th></th>\n",
       "      <th>grouping</th>\n",
       "      <th>Pz</th>\n",
       "      <th>nGroups</th>\n",
       "    </tr>\n",
       "  </thead>\n",
       "  <tbody>\n",
       "    <tr>\n",
       "      <th>0</th>\n",
       "      <td>[[0, 1, 2]]</td>\n",
       "      <td>0.364417</td>\n",
       "      <td>1</td>\n",
       "    </tr>\n",
       "    <tr>\n",
       "      <th>1</th>\n",
       "      <td>[[0], [1, 2]]</td>\n",
       "      <td>0.132382</td>\n",
       "      <td>2</td>\n",
       "    </tr>\n",
       "    <tr>\n",
       "      <th>2</th>\n",
       "      <td>[[0, 1], [2]]</td>\n",
       "      <td>0.132382</td>\n",
       "      <td>2</td>\n",
       "    </tr>\n",
       "    <tr>\n",
       "      <th>3</th>\n",
       "      <td>[[1], [0, 2]]</td>\n",
       "      <td>0.132382</td>\n",
       "      <td>2</td>\n",
       "    </tr>\n",
       "    <tr>\n",
       "      <th>4</th>\n",
       "      <td>[[0], [1], [2]]</td>\n",
       "      <td>0.238438</td>\n",
       "      <td>3</td>\n",
       "    </tr>\n",
       "  </tbody>\n",
       "</table>\n",
       "</div>"
      ],
      "text/plain": [
       "          grouping        Pz  nGroups\n",
       "0      [[0, 1, 2]]  0.364417        1\n",
       "1    [[0], [1, 2]]  0.132382        2\n",
       "2    [[0, 1], [2]]  0.132382        2\n",
       "3    [[1], [0, 2]]  0.132382        2\n",
       "4  [[0], [1], [2]]  0.238438        3"
      ]
     },
     "execution_count": 10,
     "metadata": {},
     "output_type": "execute_result"
    }
   ],
   "source": [
    "df_PZ"
   ]
  },
  {
   "cell_type": "markdown",
   "id": "23fcfa0c-d03f-4a26-a1d5-363384036bf5",
   "metadata": {},
   "source": [
    "Sanity check: look at distribution of group sizes"
   ]
  },
  {
   "cell_type": "code",
   "execution_count": 11,
   "id": "6f40d1da-86cb-478d-90a9-18b742c3c0b6",
   "metadata": {},
   "outputs": [],
   "source": [
    "groupSizes = df_PZ[['Pz', 'nGroups']].groupby(by='nGroups').sum()"
   ]
  },
  {
   "cell_type": "code",
   "execution_count": 12,
   "id": "d4c3b0ac-58af-4c46-897e-25852e1a732c",
   "metadata": {},
   "outputs": [
    {
     "data": {
      "text/html": [
       "<div>\n",
       "<style scoped>\n",
       "    .dataframe tbody tr th:only-of-type {\n",
       "        vertical-align: middle;\n",
       "    }\n",
       "\n",
       "    .dataframe tbody tr th {\n",
       "        vertical-align: top;\n",
       "    }\n",
       "\n",
       "    .dataframe thead th {\n",
       "        text-align: right;\n",
       "    }\n",
       "</style>\n",
       "<table border=\"1\" class=\"dataframe\">\n",
       "  <thead>\n",
       "    <tr style=\"text-align: right;\">\n",
       "      <th></th>\n",
       "      <th>Pz</th>\n",
       "    </tr>\n",
       "    <tr>\n",
       "      <th>nGroups</th>\n",
       "      <th></th>\n",
       "    </tr>\n",
       "  </thead>\n",
       "  <tbody>\n",
       "    <tr>\n",
       "      <th>1</th>\n",
       "      <td>0.364417</td>\n",
       "    </tr>\n",
       "    <tr>\n",
       "      <th>2</th>\n",
       "      <td>0.397146</td>\n",
       "    </tr>\n",
       "    <tr>\n",
       "      <th>3</th>\n",
       "      <td>0.238438</td>\n",
       "    </tr>\n",
       "  </tbody>\n",
       "</table>\n",
       "</div>"
      ],
      "text/plain": [
       "               Pz\n",
       "nGroups          \n",
       "1        0.364417\n",
       "2        0.397146\n",
       "3        0.238438"
      ]
     },
     "execution_count": 12,
     "metadata": {},
     "output_type": "execute_result"
    }
   ],
   "source": [
    "groupSizes"
   ]
  },
  {
   "cell_type": "code",
   "execution_count": 13,
   "id": "501bbc24-e1b6-4f9b-8026-3394844ac86e",
   "metadata": {},
   "outputs": [
    {
     "data": {
      "text/plain": [
       "<AxesSubplot:xlabel='nGroups', ylabel='Pz'>"
      ]
     },
     "execution_count": 13,
     "metadata": {},
     "output_type": "execute_result"
    },
    {
     "data": {
      "image/png": "[encoded data removed]",
      "text/plain": [
       "<Figure size 432x288 with 1 Axes>"
      ]
     },
     "metadata": {
      "needs_background": "light"
     },
     "output_type": "display_data"
    }
   ],
   "source": [
    "sns.barplot(data=groupSizes, x=groupSizes.index, y='Pz', color='blue')"
   ]
  },
  {
   "cell_type": "markdown",
   "id": "628b2112-8916-441c-aa60-037905de9b8c",
   "metadata": {},
   "source": [
    "## Likelihood\n",
    "\n",
    "Given a grouping $\\mathbf{z}$, the likelihood of observing choice set $\\mathbf{C}$ is\n",
    "\n",
    "$$P(\\mathbf{C}|\\mathbf{z}) = \\prod_n \\prod_k \\frac{\\Gamma(|\\mathcal{X}_n| \\gamma)}{\\Gamma(T_k + |\\mathcal{X}_n| \\gamma)} \\prod_c \\frac{\\Gamma(L_{kn}^c + \\gamma)}{\\Gamma(\\gamma)}$$\n",
    "\n",
    "where\n",
    "\n",
    "- $|\\mathcal{X}_n|$ is the number of options for problem $n$ (aka number of movies for each problem)\n",
    "- $L_{kn}^c$ is the number of individuals assigned to group $k$ who chose object $c$ on problem $n$\n",
    "- $T_k$, like before, is the number of individuals in group $k$\n",
    "\n",
    "(for each $n, k$ combo, you go over all the $c$s)\n",
    "\n",
    "Variables\n",
    "- `C` is `M x N` matrix; choice matrix"
   ]
  },
  {
   "cell_type": "code",
   "execution_count": 14,
   "id": "47af3654-d622-4b73-82e1-b5c325e365fb",
   "metadata": {},
   "outputs": [
    {
     "data": {
      "text/plain": [
       "array([[0., 0., 1., 0., 1.],\n",
       "       [1., 0., 1., 1., 1.],\n",
       "       [1., 0., 0., 1., 0.]])"
      ]
     },
     "execution_count": 14,
     "metadata": {},
     "output_type": "execute_result"
    }
   ],
   "source": [
    "# make some data\n",
    "\n",
    "from numpy.random import default_rng\n",
    "rng = default_rng(111)\n",
    "\n",
    "C = np.zeros((params['M'], params['N']))\n",
    "\n",
    "for m in range(params['M']):  # for each person\n",
    "    for n in range(params['N']):  # for each problem\n",
    "        C[m, n] = rng.integers(low=0, high=params['X'])  # uniformly choose among possible choices for each problem\n",
    "\n",
    "C"
   ]
  },
  {
   "cell_type": "code",
   "execution_count": 15,
   "id": "6c50594a-d900-4a24-894e-f438c5f070ed",
   "metadata": {},
   "outputs": [],
   "source": [
    "def calc_likelihood(z, C, params):\n",
    "    \"\"\"\n",
    "    Calculate P(C|z)\n",
    "    \n",
    "    here, we assume that each problem has the same number of choices (can change later)\n",
    "    \"\"\"\n",
    "    X = np.array(params['X'])  # number of choices for each problem\n",
    "    gam = params['gamma']\n",
    "    K = len(z)  # total number of groups\n",
    "    T = np.array([len(group) for group in z])  # size of each group \n",
    "    N = params['N']\n",
    "    \n",
    "#     print(X)\n",
    "#     print(gam)\n",
    "#     print(K)\n",
    "#     print(T)\n",
    "#     print(N)\n",
    "    \n",
    "    likSoFar = 1\n",
    "    for k in range(K):  # for each group in z\n",
    "        for n in range(N):  # for each problem \n",
    "            \n",
    "            # update likelihood\n",
    "            likSoFar *= gamma(X * gam) / gamma(T[k] + X * gam)\n",
    "            \n",
    "            for c in range(X):  # for each choice in each problem\n",
    "                \n",
    "                # Calculate L_{kn}^c\n",
    "                pplInK = z[k]  # indices of individuals in group k\n",
    "                C_k = np.take(C, indices=pplInK, axis=0)\n",
    "                Lckn = np.sum(C_k[:, n] == c)  # L_{kn}^c\n",
    "\n",
    "                # update likelihood\n",
    "                likSoFar *= gamma(Lckn + gam) / gamma(gam)\n",
    "                \n",
    "    return likSoFar"
   ]
  },
  {
   "cell_type": "code",
   "execution_count": 16,
   "id": "100b140b-61d5-4fd4-a296-06b10d3de5ba",
   "metadata": {},
   "outputs": [
    {
     "data": {
      "text/plain": [
       "[[0], [1, 2]]"
      ]
     },
     "execution_count": 16,
     "metadata": {},
     "output_type": "execute_result"
    }
   ],
   "source": [
    "Z[1]"
   ]
  },
  {
   "cell_type": "code",
   "execution_count": 17,
   "id": "2f38ad47-4a94-4063-a52e-fd638995e5aa",
   "metadata": {},
   "outputs": [
    {
     "data": {
      "text/plain": [
       "3.215020576131687e-05"
      ]
     },
     "execution_count": 17,
     "metadata": {},
     "output_type": "execute_result"
    }
   ],
   "source": [
    "calc_likelihood(Z[1], C, params)"
   ]
  },
  {
   "cell_type": "markdown",
   "id": "b37ce1ca-bc6d-4464-82ae-2632e8921e7f",
   "metadata": {},
   "source": [
    "## Calculate posterior"
   ]
  },
  {
   "cell_type": "code",
   "execution_count": 18,
   "id": "4043a61a-19be-4d1d-9db2-032a83e45bd6",
   "metadata": {},
   "outputs": [],
   "source": [
    "# Remake C to something that makes sense\n",
    "\n",
    "# 3 individuals x 5 problems\n",
    "\n",
    "C = np.array([\n",
    "    [0, 0, 0, 0, 0], \n",
    "    [1, 1, 1, 1, 1], \n",
    "    [0, 0, 0, 0, 0]\n",
    "])"
   ]
  },
  {
   "cell_type": "code",
   "execution_count": 19,
   "id": "f824b6bd-b1d8-4b09-9a60-95a44837db27",
   "metadata": {},
   "outputs": [
    {
     "data": {
      "text/html": [
       "<div>\n",
       "<style scoped>\n",
       "    .dataframe tbody tr th:only-of-type {\n",
       "        vertical-align: middle;\n",
       "    }\n",
       "\n",
       "    .dataframe tbody tr th {\n",
       "        vertical-align: top;\n",
       "    }\n",
       "\n",
       "    .dataframe thead th {\n",
       "        text-align: right;\n",
       "    }\n",
       "</style>\n",
       "<table border=\"1\" class=\"dataframe\">\n",
       "  <thead>\n",
       "    <tr style=\"text-align: right;\">\n",
       "      <th></th>\n",
       "      <th>grouping</th>\n",
       "      <th>Pz</th>\n",
       "      <th>nGroups</th>\n",
       "    </tr>\n",
       "  </thead>\n",
       "  <tbody>\n",
       "    <tr>\n",
       "      <th>0</th>\n",
       "      <td>[[0, 1, 2]]</td>\n",
       "      <td>0.364417</td>\n",
       "      <td>1</td>\n",
       "    </tr>\n",
       "    <tr>\n",
       "      <th>1</th>\n",
       "      <td>[[0], [1, 2]]</td>\n",
       "      <td>0.132382</td>\n",
       "      <td>2</td>\n",
       "    </tr>\n",
       "    <tr>\n",
       "      <th>2</th>\n",
       "      <td>[[0, 1], [2]]</td>\n",
       "      <td>0.132382</td>\n",
       "      <td>2</td>\n",
       "    </tr>\n",
       "    <tr>\n",
       "      <th>3</th>\n",
       "      <td>[[1], [0, 2]]</td>\n",
       "      <td>0.132382</td>\n",
       "      <td>2</td>\n",
       "    </tr>\n",
       "    <tr>\n",
       "      <th>4</th>\n",
       "      <td>[[0], [1], [2]]</td>\n",
       "      <td>0.238438</td>\n",
       "      <td>3</td>\n",
       "    </tr>\n",
       "  </tbody>\n",
       "</table>\n",
       "</div>"
      ],
      "text/plain": [
       "          grouping        Pz  nGroups\n",
       "0      [[0, 1, 2]]  0.364417        1\n",
       "1    [[0], [1, 2]]  0.132382        2\n",
       "2    [[0, 1], [2]]  0.132382        2\n",
       "3    [[1], [0, 2]]  0.132382        2\n",
       "4  [[0], [1], [2]]  0.238438        3"
      ]
     },
     "execution_count": 19,
     "metadata": {},
     "output_type": "execute_result"
    }
   ],
   "source": [
    "df_PZ"
   ]
  },
  {
   "cell_type": "code",
   "execution_count": 20,
   "id": "a3308e75-e094-4663-bb12-95320721e709",
   "metadata": {},
   "outputs": [],
   "source": [
    "df_PZ['PCgz'] = df_PZ['grouping'].apply(lambda x: calc_likelihood(x, C, params))"
   ]
  },
  {
   "cell_type": "code",
   "execution_count": 21,
   "id": "26695b88-355b-4873-b33f-c0dc6e82c0ef",
   "metadata": {},
   "outputs": [
    {
     "data": {
      "text/html": [
       "<div>\n",
       "<style scoped>\n",
       "    .dataframe tbody tr th:only-of-type {\n",
       "        vertical-align: middle;\n",
       "    }\n",
       "\n",
       "    .dataframe tbody tr th {\n",
       "        vertical-align: top;\n",
       "    }\n",
       "\n",
       "    .dataframe thead th {\n",
       "        text-align: right;\n",
       "    }\n",
       "</style>\n",
       "<table border=\"1\" class=\"dataframe\">\n",
       "  <thead>\n",
       "    <tr style=\"text-align: right;\">\n",
       "      <th></th>\n",
       "      <th>grouping</th>\n",
       "      <th>Pz</th>\n",
       "      <th>nGroups</th>\n",
       "      <th>PCgz</th>\n",
       "    </tr>\n",
       "  </thead>\n",
       "  <tbody>\n",
       "    <tr>\n",
       "      <th>0</th>\n",
       "      <td>[[0, 1, 2]]</td>\n",
       "      <td>0.364417</td>\n",
       "      <td>1</td>\n",
       "      <td>0.000004</td>\n",
       "    </tr>\n",
       "    <tr>\n",
       "      <th>1</th>\n",
       "      <td>[[0], [1, 2]]</td>\n",
       "      <td>0.132382</td>\n",
       "      <td>2</td>\n",
       "      <td>0.000004</td>\n",
       "    </tr>\n",
       "    <tr>\n",
       "      <th>2</th>\n",
       "      <td>[[0, 1], [2]]</td>\n",
       "      <td>0.132382</td>\n",
       "      <td>2</td>\n",
       "      <td>0.000004</td>\n",
       "    </tr>\n",
       "    <tr>\n",
       "      <th>3</th>\n",
       "      <td>[[1], [0, 2]]</td>\n",
       "      <td>0.132382</td>\n",
       "      <td>2</td>\n",
       "      <td>0.000129</td>\n",
       "    </tr>\n",
       "    <tr>\n",
       "      <th>4</th>\n",
       "      <td>[[0], [1], [2]]</td>\n",
       "      <td>0.238438</td>\n",
       "      <td>3</td>\n",
       "      <td>0.000031</td>\n",
       "    </tr>\n",
       "  </tbody>\n",
       "</table>\n",
       "</div>"
      ],
      "text/plain": [
       "          grouping        Pz  nGroups      PCgz\n",
       "0      [[0, 1, 2]]  0.364417        1  0.000004\n",
       "1    [[0], [1, 2]]  0.132382        2  0.000004\n",
       "2    [[0, 1], [2]]  0.132382        2  0.000004\n",
       "3    [[1], [0, 2]]  0.132382        2  0.000129\n",
       "4  [[0], [1], [2]]  0.238438        3  0.000031"
      ]
     },
     "execution_count": 21,
     "metadata": {},
     "output_type": "execute_result"
    }
   ],
   "source": [
    "df_PZ"
   ]
  },
  {
   "cell_type": "code",
   "execution_count": 22,
   "id": "7f8d6a98-ccac-41b3-afce-a8997073bf3c",
   "metadata": {},
   "outputs": [],
   "source": [
    "# Find posterior and normalize\n",
    "df_PZ['PzGC'] = df_PZ['Pz'] * df_PZ['PCgz']\n",
    "df_PZ['PzGC'] = df_PZ['PzGC'] / df_PZ['PzGC'].sum()"
   ]
  },
  {
   "cell_type": "code",
   "execution_count": 23,
   "id": "9abe5917-1565-4bbb-b638-7aa7415c8546",
   "metadata": {},
   "outputs": [
    {
     "data": {
      "text/html": [
       "<div>\n",
       "<style scoped>\n",
       "    .dataframe tbody tr th:only-of-type {\n",
       "        vertical-align: middle;\n",
       "    }\n",
       "\n",
       "    .dataframe tbody tr th {\n",
       "        vertical-align: top;\n",
       "    }\n",
       "\n",
       "    .dataframe thead th {\n",
       "        text-align: right;\n",
       "    }\n",
       "</style>\n",
       "<table border=\"1\" class=\"dataframe\">\n",
       "  <thead>\n",
       "    <tr style=\"text-align: right;\">\n",
       "      <th></th>\n",
       "      <th>grouping</th>\n",
       "      <th>Pz</th>\n",
       "      <th>nGroups</th>\n",
       "      <th>PCgz</th>\n",
       "      <th>PzGC</th>\n",
       "    </tr>\n",
       "  </thead>\n",
       "  <tbody>\n",
       "    <tr>\n",
       "      <th>0</th>\n",
       "      <td>[[0, 1, 2]]</td>\n",
       "      <td>0.364417</td>\n",
       "      <td>1</td>\n",
       "      <td>0.000004</td>\n",
       "      <td>0.054586</td>\n",
       "    </tr>\n",
       "    <tr>\n",
       "      <th>1</th>\n",
       "      <td>[[0], [1, 2]]</td>\n",
       "      <td>0.132382</td>\n",
       "      <td>2</td>\n",
       "      <td>0.000004</td>\n",
       "      <td>0.019829</td>\n",
       "    </tr>\n",
       "    <tr>\n",
       "      <th>2</th>\n",
       "      <td>[[0, 1], [2]]</td>\n",
       "      <td>0.132382</td>\n",
       "      <td>2</td>\n",
       "      <td>0.000004</td>\n",
       "      <td>0.019829</td>\n",
       "    </tr>\n",
       "    <tr>\n",
       "      <th>3</th>\n",
       "      <td>[[1], [0, 2]]</td>\n",
       "      <td>0.132382</td>\n",
       "      <td>2</td>\n",
       "      <td>0.000129</td>\n",
       "      <td>0.634541</td>\n",
       "    </tr>\n",
       "    <tr>\n",
       "      <th>4</th>\n",
       "      <td>[[0], [1], [2]]</td>\n",
       "      <td>0.238438</td>\n",
       "      <td>3</td>\n",
       "      <td>0.000031</td>\n",
       "      <td>0.271214</td>\n",
       "    </tr>\n",
       "  </tbody>\n",
       "</table>\n",
       "</div>"
      ],
      "text/plain": [
       "          grouping        Pz  nGroups      PCgz      PzGC\n",
       "0      [[0, 1, 2]]  0.364417        1  0.000004  0.054586\n",
       "1    [[0], [1, 2]]  0.132382        2  0.000004  0.019829\n",
       "2    [[0, 1], [2]]  0.132382        2  0.000004  0.019829\n",
       "3    [[1], [0, 2]]  0.132382        2  0.000129  0.634541\n",
       "4  [[0], [1], [2]]  0.238438        3  0.000031  0.271214"
      ]
     },
     "execution_count": 23,
     "metadata": {},
     "output_type": "execute_result"
    }
   ],
   "source": [
    "df_PZ"
   ]
  },
  {
   "cell_type": "markdown",
   "id": "ece407bb-0213-46e1-ab1d-f3afbfbc0330",
   "metadata": {},
   "source": [
    "## Putting this all together"
   ]
  },
  {
   "cell_type": "code",
   "execution_count": 24,
   "id": "791691a0-9da2-4b52-94c3-b0620b6772be",
   "metadata": {},
   "outputs": [],
   "source": [
    "def calc_posterior():  # should change this name (also calc_likelihood) to something more informative \n",
    "    pass"
   ]
  },
  {
   "cell_type": "markdown",
   "id": "5a9a2a96-65f8-41f8-9798-1e119f7f071f",
   "metadata": {},
   "source": [
    "## Once you have the groups: choosing stuff\n",
    "\n",
    "For each group, each choice problem has its own set $\\theta$ of multinomial parameters that describe the probabilities of choosing each option. So the group you are in determines the probability of making each choice for each problem. \n",
    "\n",
    "Notation: $\\theta_{kn}^c$ are the parameters for group $k$, problem $n$, option $c$. \n",
    "\n",
    "Choice matrix $\\mathbf{C}$ is an $N x M$ matrix ($N$ problems, $M$ participants)\n",
    "\n",
    "We want to find the probability that individual $m$ chooses option $c$ on an unseen problem $\\mathcal{X}_\\ast$: \n",
    "\n",
    "$$P(c_{m^\\ast} = c | \\mathbf{C}) = \\sum_{\\mathbf{z}} P(c_{m^\\ast} = c | \\mathbf{z}, \\mathbf{C}) P(\\mathbf{z} | \\mathbf{C})$$\n",
    "\n",
    "We know $P(\\mathbf{z} | \\mathbf{C})$, so we want to find $P(c_{m^\\ast} = c | \\mathbf{z}, \\mathbf{C})$: \n",
    "\n",
    "$$P(c_{m^\\ast} = c | \\mathbf{z}, \\mathbf{C}) = \\frac{\\gamma + L_{z_m^\\ast}^c}{|\\mathcal{X}_\\ast| \\gamma + \\sum_{c' \\in \\mathcal{X}_\\ast} L_{z_m^\\ast}^{c'}}$$\n",
    "\n",
    "where\n",
    "- $|\\mathcal{X}_\\ast|$ is the number of possible choices on the unseen problem\n",
    "- $L_{z_m^\\ast}^c$ is the number of individuals assigned to the same group as individual $m$ who have chosen option $c$ in the new unseen problem\n",
    "- $\\sum_{c' \\in \\mathcal{X}_\\ast} L_{z_m^\\ast}^{c'}$ is the total number of choices that people in the same group as individual $m$ have made on the unseen problem\n",
    "    - Alternatively, if each person only makes one choice (like the case we have here), it's the total number of people in the same group as individual m "
   ]
  },
  {
   "cell_type": "markdown",
   "id": "5eaa0837-165c-4bf8-b730-82376c6f1175",
   "metadata": {},
   "source": [
    "---\n",
    "\n",
    "Example: find posteriors of what participant 2 is likely to choose for the last problem\n",
    "\n",
    "**They should be more likely to choose option 0**"
   ]
  },
  {
   "cell_type": "code",
   "execution_count": 25,
   "id": "c511c310-caad-4b72-a398-888935eb5351",
   "metadata": {},
   "outputs": [
    {
     "data": {
      "text/plain": [
       "array([[ 0.,  0.,  0.,  0.,  0.,  0.],\n",
       "       [ 1.,  1.,  1.,  1.,  1.,  1.],\n",
       "       [ 0.,  0.,  0.,  0.,  0., nan]])"
      ]
     },
     "execution_count": 25,
     "metadata": {},
     "output_type": "execute_result"
    }
   ],
   "source": [
    "# add a column to C where person 2 has observed choices from person 0 and person 1 but hasn't made a choice yet\n",
    "C_new = np.append(C, [[0], [1], [np.nan]], axis=1)\n",
    "C_new"
   ]
  },
  {
   "cell_type": "code",
   "execution_count": 26,
   "id": "b3ca36fd-24e1-4d78-ae51-007f9b9ae389",
   "metadata": {},
   "outputs": [
    {
     "data": {
      "text/html": [
       "<div>\n",
       "<style scoped>\n",
       "    .dataframe tbody tr th:only-of-type {\n",
       "        vertical-align: middle;\n",
       "    }\n",
       "\n",
       "    .dataframe tbody tr th {\n",
       "        vertical-align: top;\n",
       "    }\n",
       "\n",
       "    .dataframe thead th {\n",
       "        text-align: right;\n",
       "    }\n",
       "</style>\n",
       "<table border=\"1\" class=\"dataframe\">\n",
       "  <thead>\n",
       "    <tr style=\"text-align: right;\">\n",
       "      <th></th>\n",
       "      <th>grouping</th>\n",
       "      <th>Pz</th>\n",
       "      <th>nGroups</th>\n",
       "      <th>PCgz</th>\n",
       "      <th>PzGC</th>\n",
       "    </tr>\n",
       "  </thead>\n",
       "  <tbody>\n",
       "    <tr>\n",
       "      <th>0</th>\n",
       "      <td>[[0, 1, 2]]</td>\n",
       "      <td>0.364417</td>\n",
       "      <td>1</td>\n",
       "      <td>0.000004</td>\n",
       "      <td>0.054586</td>\n",
       "    </tr>\n",
       "    <tr>\n",
       "      <th>1</th>\n",
       "      <td>[[0], [1, 2]]</td>\n",
       "      <td>0.132382</td>\n",
       "      <td>2</td>\n",
       "      <td>0.000004</td>\n",
       "      <td>0.019829</td>\n",
       "    </tr>\n",
       "    <tr>\n",
       "      <th>2</th>\n",
       "      <td>[[0, 1], [2]]</td>\n",
       "      <td>0.132382</td>\n",
       "      <td>2</td>\n",
       "      <td>0.000004</td>\n",
       "      <td>0.019829</td>\n",
       "    </tr>\n",
       "    <tr>\n",
       "      <th>3</th>\n",
       "      <td>[[1], [0, 2]]</td>\n",
       "      <td>0.132382</td>\n",
       "      <td>2</td>\n",
       "      <td>0.000129</td>\n",
       "      <td>0.634541</td>\n",
       "    </tr>\n",
       "    <tr>\n",
       "      <th>4</th>\n",
       "      <td>[[0], [1], [2]]</td>\n",
       "      <td>0.238438</td>\n",
       "      <td>3</td>\n",
       "      <td>0.000031</td>\n",
       "      <td>0.271214</td>\n",
       "    </tr>\n",
       "  </tbody>\n",
       "</table>\n",
       "</div>"
      ],
      "text/plain": [
       "          grouping        Pz  nGroups      PCgz      PzGC\n",
       "0      [[0, 1, 2]]  0.364417        1  0.000004  0.054586\n",
       "1    [[0], [1, 2]]  0.132382        2  0.000004  0.019829\n",
       "2    [[0, 1], [2]]  0.132382        2  0.000004  0.019829\n",
       "3    [[1], [0, 2]]  0.132382        2  0.000129  0.634541\n",
       "4  [[0], [1], [2]]  0.238438        3  0.000031  0.271214"
      ]
     },
     "execution_count": 26,
     "metadata": {},
     "output_type": "execute_result"
    }
   ],
   "source": [
    "df_PZ"
   ]
  },
  {
   "cell_type": "code",
   "execution_count": 27,
   "id": "59372997-40a0-4676-9eac-4aeb98281df2",
   "metadata": {},
   "outputs": [],
   "source": [
    "def calc_PcGzc(c, m, z, C, params): \n",
    "    \"\"\"\n",
    "    Calculate P(c_{m^\\ast} = c | z, C)\n",
    "    Assume that the last column of C is the test (unseen) problem\n",
    "    \n",
    "    Params: \n",
    "        c: choice index for unseen problem, between 0 and params['X'] - 1\n",
    "        m: participant index\n",
    "        z: list of groupings\n",
    "        C: choice matrix \n",
    "    \"\"\"\n",
    "    gam = params['gamma']\n",
    "    X = params['X']\n",
    "    \n",
    "    # Find indices of people in the same group as person m\n",
    "    for k, group in enumerate(z): \n",
    "        if m in group:\n",
    "            pplInK = z[k]\n",
    "            break\n",
    "    \n",
    "    # Find all responses for the unseen problem for people in the same group as m\n",
    "    c_ast = C[:, -1:]  # last column of C is unseen problem\n",
    "    Lzm_ast = np.take(c_ast, indices=pplInK, axis=0) \n",
    "    sum_Lczm_ast = np.sum(Lzm_ast != np.nan)  # Total number of responses people in the same group as m gave in unseen problem\n",
    "    \n",
    "    # Find number of individuals in this group who have chosen option c for unseen problem\n",
    "    Lczm_ast = np.sum(Lzm_ast == c)\n",
    "    \n",
    "    PcGzc = (gam + Lczm_ast) / (X * gam + sum_Lczm_ast)\n",
    "    \n",
    "    return PcGzc    "
   ]
  },
  {
   "cell_type": "code",
   "execution_count": 28,
   "id": "3125b548-caf2-4638-86bc-beefcfd8c94f",
   "metadata": {},
   "outputs": [
    {
     "data": {
      "text/plain": [
       "0    0.400000\n",
       "1    0.250000\n",
       "2    0.333333\n",
       "3    0.500000\n",
       "4    0.333333\n",
       "Name: grouping, dtype: float64"
      ]
     },
     "execution_count": 28,
     "metadata": {},
     "output_type": "execute_result"
    }
   ],
   "source": [
    "# Test this: probability of person 2 choosing choice 0 on the unseen problem\n",
    "df_PZ['grouping'].apply(lambda x: calc_PcGzc(c=0, m=2, z=x, C=C_new, params=params))\n",
    "\n",
    "# Makes sense: Person 2 is more likely to choose option 0 if there is a higher proportion of people in the group who have chosen option 0"
   ]
  },
  {
   "cell_type": "markdown",
   "id": "cd9d187b-716e-4410-ad7a-0eb793206c35",
   "metadata": {},
   "source": [
    "Calculate choice posteriors: \n",
    "\n",
    "$$P(c_{m^\\ast} = c | \\mathbf{C}) = \\sum_{\\mathbf{z}} P(c_{m^\\ast} = c | \\mathbf{z}, \\mathbf{C}) P(\\mathbf{z} | \\mathbf{C})$$"
   ]
  },
  {
   "cell_type": "markdown",
   "id": "5c144dc2-d64f-4b6c-a0be-a6928da1bf4e",
   "metadata": {},
   "source": [
    "Loop over possible choices and add to dataframe"
   ]
  },
  {
   "cell_type": "code",
   "execution_count": 29,
   "id": "24e40736-37c3-4649-a9ae-faedb3b2fb0a",
   "metadata": {},
   "outputs": [],
   "source": [
    "choice_posteriors = {}\n",
    "\n",
    "for c in range(params['X']): \n",
    "    df_PZ[f'Pc{c}GzC'] = df_PZ['grouping'].apply(lambda x: calc_PcGzc(c=c, m=2, z=x, C=C_new, params=params))\n",
    "    choice_posteriors[f'Pc{c}GC'] = np.sum(df_PZ[f'Pc{c}GzC'] * df_PZ['PzGC'])"
   ]
  },
  {
   "cell_type": "code",
   "execution_count": 30,
   "id": "cbbe0c13-2bc3-48b5-a6ef-223845a18b60",
   "metadata": {},
   "outputs": [
    {
     "data": {
      "text/html": [
       "<div>\n",
       "<style scoped>\n",
       "    .dataframe tbody tr th:only-of-type {\n",
       "        vertical-align: middle;\n",
       "    }\n",
       "\n",
       "    .dataframe tbody tr th {\n",
       "        vertical-align: top;\n",
       "    }\n",
       "\n",
       "    .dataframe thead th {\n",
       "        text-align: right;\n",
       "    }\n",
       "</style>\n",
       "<table border=\"1\" class=\"dataframe\">\n",
       "  <thead>\n",
       "    <tr style=\"text-align: right;\">\n",
       "      <th></th>\n",
       "      <th>grouping</th>\n",
       "      <th>Pz</th>\n",
       "      <th>nGroups</th>\n",
       "      <th>PCgz</th>\n",
       "      <th>PzGC</th>\n",
       "      <th>Pc0GzC</th>\n",
       "      <th>Pc1GzC</th>\n",
       "    </tr>\n",
       "  </thead>\n",
       "  <tbody>\n",
       "    <tr>\n",
       "      <th>0</th>\n",
       "      <td>[[0, 1, 2]]</td>\n",
       "      <td>0.364417</td>\n",
       "      <td>1</td>\n",
       "      <td>0.000004</td>\n",
       "      <td>0.054586</td>\n",
       "      <td>0.400000</td>\n",
       "      <td>0.400000</td>\n",
       "    </tr>\n",
       "    <tr>\n",
       "      <th>1</th>\n",
       "      <td>[[0], [1, 2]]</td>\n",
       "      <td>0.132382</td>\n",
       "      <td>2</td>\n",
       "      <td>0.000004</td>\n",
       "      <td>0.019829</td>\n",
       "      <td>0.250000</td>\n",
       "      <td>0.500000</td>\n",
       "    </tr>\n",
       "    <tr>\n",
       "      <th>2</th>\n",
       "      <td>[[0, 1], [2]]</td>\n",
       "      <td>0.132382</td>\n",
       "      <td>2</td>\n",
       "      <td>0.000004</td>\n",
       "      <td>0.019829</td>\n",
       "      <td>0.333333</td>\n",
       "      <td>0.333333</td>\n",
       "    </tr>\n",
       "    <tr>\n",
       "      <th>3</th>\n",
       "      <td>[[1], [0, 2]]</td>\n",
       "      <td>0.132382</td>\n",
       "      <td>2</td>\n",
       "      <td>0.000129</td>\n",
       "      <td>0.634541</td>\n",
       "      <td>0.500000</td>\n",
       "      <td>0.250000</td>\n",
       "    </tr>\n",
       "    <tr>\n",
       "      <th>4</th>\n",
       "      <td>[[0], [1], [2]]</td>\n",
       "      <td>0.238438</td>\n",
       "      <td>3</td>\n",
       "      <td>0.000031</td>\n",
       "      <td>0.271214</td>\n",
       "      <td>0.333333</td>\n",
       "      <td>0.333333</td>\n",
       "    </tr>\n",
       "  </tbody>\n",
       "</table>\n",
       "</div>"
      ],
      "text/plain": [
       "          grouping        Pz  nGroups      PCgz      PzGC    Pc0GzC    Pc1GzC\n",
       "0      [[0, 1, 2]]  0.364417        1  0.000004  0.054586  0.400000  0.400000\n",
       "1    [[0], [1, 2]]  0.132382        2  0.000004  0.019829  0.250000  0.500000\n",
       "2    [[0, 1], [2]]  0.132382        2  0.000004  0.019829  0.333333  0.333333\n",
       "3    [[1], [0, 2]]  0.132382        2  0.000129  0.634541  0.500000  0.250000\n",
       "4  [[0], [1], [2]]  0.238438        3  0.000031  0.271214  0.333333  0.333333"
      ]
     },
     "execution_count": 30,
     "metadata": {},
     "output_type": "execute_result"
    }
   ],
   "source": [
    "df_PZ"
   ]
  },
  {
   "cell_type": "code",
   "execution_count": 31,
   "id": "6ab3b384-7be3-415c-a370-1ffb4fc39b98",
   "metadata": {},
   "outputs": [
    {
     "data": {
      "text/plain": [
       "{'Pc0GC': 0.44107683003494963, 'Pc1GC': 0.28739883631584806}"
      ]
     },
     "execution_count": 31,
     "metadata": {},
     "output_type": "execute_result"
    }
   ],
   "source": [
    "choice_posteriors"
   ]
  },
  {
   "cell_type": "code",
   "execution_count": 32,
   "id": "94518cc5-faab-4e6f-9bf9-64e5e5ab1bbd",
   "metadata": {},
   "outputs": [],
   "source": [
    "# apply temperature parameter to choice posteriors\n",
    "\n",
    "den = sum([val**params['beta'] for val in choice_posteriors.values()])\n",
    "choice_post_beta = {k: (v**params['beta'])/den for k, v in choice_posteriors.items()}"
   ]
  },
  {
   "cell_type": "code",
   "execution_count": 33,
   "id": "b4c549f5-eea8-4c8d-ac07-4f7d8c22093f",
   "metadata": {},
   "outputs": [
    {
     "data": {
      "text/plain": [
       "{'Pc0GC': 0.9912788701250842, 'Pc1GC': 0.008721129874915788}"
      ]
     },
     "execution_count": 33,
     "metadata": {},
     "output_type": "execute_result"
    }
   ],
   "source": [
    "choice_post_beta"
   ]
  },
  {
   "cell_type": "markdown",
   "id": "11bcbade-be8a-4db0-97d1-268bf377b7d7",
   "metadata": {},
   "source": [
    "## Yay this works! Ok now to put everything together"
   ]
  },
  {
   "cell_type": "code",
   "execution_count": 34,
   "id": "c71bf5d5-6464-438e-ba7c-ac7a7b0381de",
   "metadata": {},
   "outputs": [],
   "source": [
    "def choices(C, params): \n",
    "    \n",
    "    Z = find_partitions(params)\n",
    "    \n",
    "    # Calculate prior\n",
    "    PZ = []\n",
    "    for z in Z:\n",
    "        PZ.append(CRP(z, params))\n",
    "        \n",
    "    df_PZ = pd.DataFrame(data={\n",
    "        'grouping': Z, \n",
    "        'Pz': PZ\n",
    "    })\n",
    "    \n",
    "    # Calculate likelihood\n",
    "    df_PZ['PCgz'] = df_PZ['grouping'].apply(lambda x: calc_likelihood(x, C, params))\n",
    "    \n",
    "    # Calculate posterior and normalize\n",
    "    df_PZ['PzGC'] = df_PZ['Pz'] * df_PZ['PCgz']\n",
    "    df_PZ['PzGC'] = df_PZ['PzGC'] / df_PZ['PzGC'].sum()\n",
    "    \n",
    "    # Calculate choice probabilities \n",
    "    choice_posteriors = {}\n",
    "\n",
    "    for c in range(params['X']): \n",
    "        df_PZ[f'Pc{c}GzC'] = df_PZ['grouping'].apply(lambda x: calc_PcGzc(c=c, m=2, z=x, C=C, params=params))\n",
    "        choice_posteriors[f'Pc{c}GC'] = np.sum(df_PZ[f'Pc{c}GzC'] * df_PZ['PzGC'])\n",
    "    \n",
    "    # apply temperature parameter to choice posteriors\n",
    "\n",
    "    den = sum([val**params['beta'] for val in choice_posteriors.values()])\n",
    "    choice_post_beta = {k: (v**params['beta'])/den for k, v in choice_posteriors.items()}\n",
    "    \n",
    "    return df_PZ, choice_post_beta"
   ]
  },
  {
   "cell_type": "code",
   "execution_count": 35,
   "id": "b1241f9d-420d-4644-b6f7-5ebab51527aa",
   "metadata": {},
   "outputs": [
    {
     "data": {
      "text/plain": [
       "(          grouping        Pz      PCgz      PzGC    Pc0GzC    Pc1GzC\n",
       " 0      [[0, 1, 2]]  0.364417  0.000004  0.054586  0.600000  0.400000\n",
       " 1    [[0], [1, 2]]  0.132382  0.000004  0.019829  0.500000  0.500000\n",
       " 2    [[0, 1], [2]]  0.132382  0.000004  0.019829  0.666667  0.333333\n",
       " 3    [[1], [0, 2]]  0.132382  0.000129  0.634541  0.750000  0.250000\n",
       " 4  [[0], [1], [2]]  0.238438  0.000031  0.271214  0.666667  0.333333,\n",
       " {'Pc0GC': 0.999956118029108, 'Pc1GC': 4.388197089195977e-05})"
      ]
     },
     "execution_count": 35,
     "metadata": {},
     "output_type": "execute_result"
    }
   ],
   "source": [
    "choices(C, params)"
   ]
  },
  {
   "cell_type": "markdown",
   "id": "83410ac5-834e-4bc0-8717-3e28578789ee",
   "metadata": {},
   "source": [
    "# Experiment 1\n",
    "\n",
    "1. A and P agree 25%, B and P agree 75%\n",
    "2. A and P agree 50%, B and P agree 75%\n",
    "3. A and P agree 75%, B and P agree 75%\n",
    "\n",
    "Find probability that A agrees with B on testing trial "
   ]
  },
  {
   "cell_type": "code",
   "execution_count": 36,
   "id": "39607ad0-01c6-4d89-bce0-4affb9334d3a",
   "metadata": {},
   "outputs": [],
   "source": [
    "params = {\n",
    "    'alpha': np.linspace(10**(-5), 10, 6),  # following Sam's implementation\n",
    "    # 'alpha': np.linspace(10**(-5), 3, 6),\n",
    "    'gamma': 1,\n",
    "    'M': 3,  # number of individuals,\n",
    "    'N': 5,  # number of choice problems\n",
    "    'X': 2,  # number of choices for each problem (can turn this into a vector later)\n",
    "    'beta': 11.05,  # temperature param in Luce choice rule, arbitrarily choosing 3 but this should be fit to data\n",
    "    'nBlocks': 4,\n",
    "    'nParticipantsPerCond': 20  # 60 participants total, so 20 per condition \n",
    "}"
   ]
  },
  {
   "cell_type": "code",
   "execution_count": 37,
   "id": "2e05c4dd-e360-46e4-ab3f-f345992aa013",
   "metadata": {},
   "outputs": [],
   "source": [
    "def gen_choice_sequence(choice_list, frac): \n",
    "    \"\"\"\n",
    "    Randomly generate a sequence of choices that agrees the given percent with choice_list\n",
    "    If whole number of # agreements isn't possible, round down\n",
    "    \"\"\"\n",
    "    nChoices = len(choice_list)\n",
    "    nAgree = math.floor(frac * nChoices)\n",
    "    \n",
    "    # Generate an array with 1 for agree, 0 for disagree\n",
    "    agreements = np.array([1 for i in range(nAgree)] + [0 for i in range(nChoices - nAgree)])\n",
    "    np.random.shuffle(agreements)\n",
    "    \n",
    "    # for the agrees, retain the value in choice_list; retain opposite value otherwise\n",
    "    new_choices = []\n",
    "    for i in range(nChoices): \n",
    "        if agreements[i] == 1:  # if agree\n",
    "            new_choices.append(choice_list[i])\n",
    "        else: \n",
    "            new_choices.append(1 - choice_list[i])\n",
    "            \n",
    "    return new_choices\n",
    "    "
   ]
  },
  {
   "cell_type": "code",
   "execution_count": 38,
   "id": "265154ca-6ae7-4a8c-af36-667444d85892",
   "metadata": {},
   "outputs": [
    {
     "data": {
      "text/plain": [
       "[0, 1, 1, 0, 1, 0]"
      ]
     },
     "execution_count": 38,
     "metadata": {},
     "output_type": "execute_result"
    }
   ],
   "source": [
    "# check if it works\n",
    "gen_choice_sequence([1, 1, 1, 1, 1, 1], .5)"
   ]
  },
  {
   "cell_type": "markdown",
   "id": "59b2b18e-57f5-46e0-a1fd-35461e1dcf77",
   "metadata": {},
   "source": [
    "Generate choice sequence for 4 blocks x 4 trials/block"
   ]
  },
  {
   "cell_type": "code",
   "execution_count": 39,
   "id": "f3cf4843-cf38-4c87-acfc-b423bd23fdec",
   "metadata": {},
   "outputs": [],
   "source": [
    "def gen_all_choices(params, fracs):\n",
    "    \"\"\"\n",
    "    Generate all choices for one condition of this experiment\n",
    "    Input: \n",
    "    - Params\n",
    "    - fracs: list of [frac agreement with A, frac agreement with B]\n",
    "    Output: \n",
    "    - all_choices: array with dimensions (M x N x nBlocks x nParticipants)\n",
    "    \"\"\"\n",
    "    all_choices = np.zeros((params['M'], params['N']-1, params['nBlocks'], params['nParticipantsPerCond']))\n",
    "    fracs = fracs\n",
    "\n",
    "    for part in range(all_choices.shape[3]): \n",
    "        for block in range(all_choices.shape[2]): \n",
    "            participant_choices = [random.randint(0, 1) for i in range(all_choices.shape[1])]\n",
    "\n",
    "            C = np.array([\n",
    "                gen_choice_sequence(participant_choices, fracs[0]),\n",
    "                gen_choice_sequence(participant_choices, fracs[1]), \n",
    "                participant_choices\n",
    "            ])\n",
    "\n",
    "            all_choices[:, :, block, part] = C\n",
    "            \n",
    "    return all_choices"
   ]
  },
  {
   "cell_type": "code",
   "execution_count": 41,
   "id": "b80e8581-572b-43a1-bf93-11d268900704",
   "metadata": {},
   "outputs": [],
   "source": [
    "def predict(all_choices): \n",
    "    \"\"\"\n",
    "    Make array of all 20 participants' choice prob on each of the 4 test trials\n",
    "    Return mean of all these values (this is what is plotted in Figure 3, I think)\n",
    "    \"\"\"\n",
    "    choice_preds = np.zeros((params['nBlocks'], params['nParticipantsPerCond']))\n",
    "\n",
    "    test_problem = np.array([[1, 0, np.nan]]).T\n",
    "\n",
    "    for part in range(choice_preds.shape[1]): \n",
    "        for block in range(choice_preds.shape[0]): \n",
    "            choice_preds[block, part] = choices(np.append(all_choices[:, :, block, part], test_problem, axis=1), params)[1]['Pc0GC']\n",
    "            \n",
    "    return np.mean(choice_preds)"
   ]
  },
  {
   "cell_type": "code",
   "execution_count": 42,
   "id": "7d6338d9-cca8-4033-a077-f1abde16ccca",
   "metadata": {},
   "outputs": [],
   "source": [
    "# put everything together\n",
    "\n",
    "def expt_1(params, fracs_list=[[0.25, 0.75], [0.5, 0.75], [0.75, 0.75]]):\n",
    "    \"\"\"Generate data and predictions for each condition of experiment 1\n",
    "    fracs_list is a list of all the conditions\n",
    "    Output: list of mean model predictions for agreement with B, corresponding to fracs_list\n",
    "    \"\"\"\n",
    "    preds = []\n",
    "    for frac in fracs_list: \n",
    "        all_choices = gen_all_choices(params, frac)\n",
    "        preds.append(predict(all_choices))\n",
    "        \n",
    "    return preds"
   ]
  },
  {
   "cell_type": "code",
   "execution_count": 43,
   "id": "d567d5bb-0f9d-4fad-9c11-3a0244e9f542",
   "metadata": {},
   "outputs": [],
   "source": [
    "# run experiment 1\n",
    "results = expt_1(params)"
   ]
  },
  {
   "cell_type": "markdown",
   "id": "5c94a588-12ad-4aa6-bba3-e6647f4f5c5d",
   "metadata": {},
   "source": [
    "Plot results for experiment 1"
   ]
  },
  {
   "cell_type": "code",
   "execution_count": 44,
   "id": "2b02e85c-c109-46c8-8a20-77bd09f948c0",
   "metadata": {},
   "outputs": [
    {
     "data": {
      "image/png": "[encoded data removed]",
      "text/plain": [
       "<Figure size 432x288 with 1 Axes>"
      ]
     },
     "metadata": {
      "needs_background": "light"
     },
     "output_type": "display_data"
    }
   ],
   "source": [
    "plt.figure()\n",
    "plt.bar(['25-75', '50-75', '75-75'], results)\n",
    "plt.ylim([0.25, 0.75])\n",
    "plt.xlabel('% agreement')\n",
    "plt.ylabel('choice prob')\n",
    "plt.axhline(y=0.5, color='r', linestyle='-')\n",
    "plt.title('experiment 1 model preds')\n",
    "plt.show()"
   ]
  },
  {
   "cell_type": "markdown",
   "id": "832d128d-4cb1-43b3-98f5-a72c5d9c0b8e",
   "metadata": {},
   "source": [
    "# Experiment 2"
   ]
  },
  {
   "cell_type": "code",
   "execution_count": null,
   "id": "1db7500f-1a1f-4845-b001-d21e5e125f0e",
   "metadata": {},
   "outputs": [],
   "source": []
  }
 ],
 "metadata": {
  "kernelspec": {
   "display_name": "Python 3 (ipykernel)",
   "language": "python",
   "name": "python3"
  },
  "language_info": {
   "codemirror_mode": {
    "name": "ipython",
    "version": 3
   },
   "file_extension": ".py",
   "mimetype": "text/x-python",
   "name": "python",
   "nbconvert_exporter": "python",
   "pygments_lexer": "ipython3",
   "version": "3.8.11"
  }
 },
 "nbformat": 4,
 "nbformat_minor": 5
}
